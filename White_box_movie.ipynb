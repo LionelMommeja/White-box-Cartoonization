{
 "cells": [
  {
   "cell_type": "markdown",
   "metadata": {
    "colab_type": "text",
    "id": "view-in-github"
   },
   "source": [
    "<a href=\"https://colab.research.google.com/github/ai-coodinator/White-box-Cartoonization/blob/main/White_box_movie.ipynb\" target=\"_parent\"><img src=\"https://colab.research.google.com/assets/colab-badge.svg\" alt=\"Open In Colab\"/></a>"
   ]
  },
  {
   "cell_type": "markdown",
   "metadata": {
    "id": "Oc3KqgwzCFCP"
   },
   "source": [
    "#reference\n",
    "https://github.com/cedro3/White-box-Cartoonization"
   ]
  },
  {
   "cell_type": "code",
   "execution_count": null,
   "metadata": {
    "colab": {
     "base_uri": "https://localhost:8080/"
    },
    "id": "eBCSVvDoBJUl",
    "outputId": "c538a2b1-7cb6-4284-f1bd-d72956db3e4b"
   },
   "outputs": [],
   "source": [
    "%tensorflow_version 1.x\n",
    "!git clone https://github.com/LionelMommeja/White-box-Cartoonization.git\n",
    "%cd White-box-Cartoonization/test_code/"
   ]
  },
  {
   "cell_type": "code",
   "execution_count": null,
   "metadata": {
    "colab": {
     "base_uri": "https://localhost:8080/",
     "height": 664
    },
    "id": "3gkkwltgBcWZ",
    "outputId": "67570cdb-9704-48ef-d204-76f426ecaa53"
   },
   "outputs": [],
   "source": [
    "# mp4動画の再生\n",
    "from IPython.display import HTML\n",
    "from base64 import b64encode\n",
    "\n",
    "mp4 = open('./test_video/la-mer.mp4', 'rb').read()\n",
    "data_url = 'data:video/mp4;base64,' + b64encode(mp4).decode()\n",
    "HTML(f\"\"\"\n",
    "<video width=\"80%\" height=\"80%\" controls>\n",
    "      <source src=\"{data_url}\" type=\"video/mp4\">\n",
    "</video>\"\"\")"
   ]
  },
  {
   "cell_type": "code",
   "execution_count": null,
   "metadata": {
    "id": "SKnCLxz5BhBa"
   },
   "outputs": [],
   "source": [
    "import os\n",
    "import shutil\n",
    "import cv2\n",
    "\n",
    "# 既に test_images フォルダーがあれば削除し、test_images フォルダーを作る\n",
    "if os.path.isdir('test_images'):\n",
    "    shutil.rmtree('test_images')\n",
    "os.makedirs('test_images', exist_ok=True)\n",
    " \n",
    "def video_2_images(video_file= './test_video/la-mer.mp4',   # ビデオの指定\n",
    "                   image_dir='./test_images/', \n",
    "                   image_file='%s.jpg'):  \n",
    " \n",
    "    # Initial setting\n",
    "    i = 0\n",
    "    interval = 1\n",
    "    length = 3000  # 最大フレーム数\n",
    "    \n",
    "    cap = cv2.VideoCapture(video_file)\n",
    "    while(cap.isOpened()):\n",
    "        flag, frame = cap.read()  \n",
    "        if flag == False:  \n",
    "                break\n",
    "        if i == length*interval:\n",
    "                break\n",
    "        if i % interval == 0:    \n",
    "           cv2.imwrite(image_dir+image_file % str(int(i/interval)).zfill(6), frame)\n",
    "        i += 1 \n",
    "    cap.release()  \n",
    " \n",
    "def main():\n",
    "    video_2_images()\n",
    "    \n",
    "if __name__ == '__main__':\n",
    "    main()"
   ]
  },
  {
   "cell_type": "code",
   "execution_count": null,
   "metadata": {
    "colab": {
     "base_uri": "https://localhost:8080/"
    },
    "id": "Z6Tp7I1-BlgK",
    "outputId": "266d3883-b436-4759-d709-f0efbaec4f3d"
   },
   "outputs": [],
   "source": [
    "# 既に cartoonized_imagesフォルダーがあれば削除\n",
    "if os.path.isdir('cartoonized_images'):\n",
    "    shutil.rmtree('cartoonized_images')\n",
    "\n",
    "# images フォルダー内にある静止画をアニメ画に変換し、cartoonized_images フォルダーに保存する\n",
    "!python cartoonize.py"
   ]
  },
  {
   "cell_type": "code",
   "execution_count": null,
   "metadata": {
    "colab": {
     "base_uri": "https://localhost:8080/"
    },
    "id": "dVdNz_8wBn94",
    "outputId": "9c88ab05-ed1f-4ca2-f114-6d980d592d11"
   },
   "outputs": [],
   "source": [
    "# 既に output.mp4 があれば削除する\n",
    "if os.path.exists('./output.mp4'):\n",
    "   os.remove('./output.mp4')\n",
    "\n",
    "# アニメ画をmp4動画(output.mp4)に変換する\n",
    "!ffmpeg -r 30 -i cartoonized_images/%06d.jpg -vcodec libx264 -pix_fmt yuv420p output.mp4"
   ]
  },
  {
   "cell_type": "code",
   "execution_count": null,
   "metadata": {
    "colab": {
     "base_uri": "https://localhost:8080/",
     "height": 664
    },
    "id": "4lif7WD5BstB",
    "outputId": "7883c8dd-6298-4cb7-c1da-7111e776ab2f"
   },
   "outputs": [],
   "source": [
    "# mp4動画の再生\n",
    "from IPython.display import HTML\n",
    "from base64 import b64encode\n",
    "\n",
    "mp4 = open('./output.mp4', 'rb').read()\n",
    "data_url = 'data:video/mp4;base64,' + b64encode(mp4).decode()\n",
    "HTML(f\"\"\"\n",
    "<video width=\"80%\" height=\"80%\" controls>\n",
    "      <source src=\"{data_url}\" type=\"video/mp4\">\n",
    "</video>\"\"\")"
   ]
  },
  {
   "cell_type": "code",
   "execution_count": null,
   "metadata": {
    "id": "D6WJf-mBBvth"
   },
   "outputs": [],
   "source": []
  }
 ],
 "metadata": {
  "accelerator": "GPU",
  "colab": {
   "authorship_tag": "ABX9TyN9XBzaKFsVjsL0y3O3MIdf",
   "include_colab_link": true,
   "name": "White_box_movie.ipynb",
   "provenance": []
  },
  "kernelspec": {
   "display_name": "Python 3",
   "language": "python",
   "name": "python3"
  },
  "language_info": {
   "codemirror_mode": {
    "name": "ipython",
    "version": 3
   },
   "file_extension": ".py",
   "mimetype": "text/x-python",
   "name": "python",
   "nbconvert_exporter": "python",
   "pygments_lexer": "ipython3",
   "version": "3.8.5"
  }
 },
 "nbformat": 4,
 "nbformat_minor": 1
}
